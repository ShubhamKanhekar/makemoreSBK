{
 "cells": [
  {
   "attachments": {},
   "cell_type": "markdown",
   "metadata": {},
   "source": [
    "<h1>\n",
    "<b>MakeMore : Neural Network</b>\n",
    "</h1>"
   ]
  },
  {
   "cell_type": "code",
   "execution_count": 33,
   "metadata": {},
   "outputs": [],
   "source": [
    "import torch\n",
    "import matplotlib.pyplot as plt"
   ]
  },
  {
   "cell_type": "code",
   "execution_count": 22,
   "metadata": {},
   "outputs": [
    {
     "data": {
      "text/plain": [
       "32033"
      ]
     },
     "execution_count": 22,
     "metadata": {},
     "output_type": "execute_result"
    }
   ],
   "source": [
    "words=[]\n",
    "with open('names.txt','r') as f:\n",
    "    words=f.read().splitlines()\n",
    "# words\n",
    "len(words)"
   ]
  },
  {
   "cell_type": "code",
   "execution_count": 24,
   "metadata": {},
   "outputs": [],
   "source": [
    "# prerequisites\n",
    "\n",
    "all_chars=sorted(list(set(''.join(words))))\n",
    "stoi={ch:i+1 for i,ch in enumerate(all_chars)}\n",
    "stoi['.']=0\n",
    "itos={i:s for s,i in stoi.items()}      #stoi.items returns a tuple with key and value pairs\n",
    "# itos\n",
    "\n",
    "N=torch.zeros((27,27), dtype= torch.int32)\n",
    "# N\n"
   ]
  },
  {
   "cell_type": "code",
   "execution_count": 43,
   "metadata": {},
   "outputs": [
    {
     "name": "stdout",
     "output_type": "stream",
     "text": [
      ". e\n",
      "e m\n",
      "m m\n",
      "m a\n",
      "a .\n"
     ]
    }
   ],
   "source": [
    "# create the training set of all the bigrams(x,y)\n",
    "xs, ys= [],[]\n",
    "for w in words[:1]:\n",
    "    chs=['.'] +list(w) + ['.']\n",
    "    for ch1, ch2 in zip(chs, chs[1:]):\n",
    "        ix1=stoi[ch1]\n",
    "        ix2= stoi[ch2]\n",
    "        print(ch1,ch2)\n",
    "        xs.append(ix1)\n",
    "        ys.append(ix2)\n",
    "\n",
    "\n",
    "xs=torch.tensor(xs)\n",
    "ys = torch.tensor(ys)        "
   ]
  },
  {
   "cell_type": "code",
   "execution_count": 44,
   "metadata": {},
   "outputs": [
    {
     "data": {
      "text/plain": [
       "tensor([[1., 0., 0., 0., 0., 0., 0., 0., 0., 0., 0., 0., 0., 0., 0., 0., 0., 0.,\n",
       "         0., 0., 0., 0., 0., 0., 0., 0., 0.],\n",
       "        [0., 0., 0., 0., 0., 1., 0., 0., 0., 0., 0., 0., 0., 0., 0., 0., 0., 0.,\n",
       "         0., 0., 0., 0., 0., 0., 0., 0., 0.],\n",
       "        [0., 0., 0., 0., 0., 0., 0., 0., 0., 0., 0., 0., 0., 1., 0., 0., 0., 0.,\n",
       "         0., 0., 0., 0., 0., 0., 0., 0., 0.],\n",
       "        [0., 0., 0., 0., 0., 0., 0., 0., 0., 0., 0., 0., 0., 1., 0., 0., 0., 0.,\n",
       "         0., 0., 0., 0., 0., 0., 0., 0., 0.],\n",
       "        [0., 1., 0., 0., 0., 0., 0., 0., 0., 0., 0., 0., 0., 0., 0., 0., 0., 0.,\n",
       "         0., 0., 0., 0., 0., 0., 0., 0., 0.]])"
      ]
     },
     "execution_count": 44,
     "metadata": {},
     "output_type": "execute_result"
    }
   ],
   "source": [
    "import torch.nn.functional as F\n",
    "xenc = F.one_hot(xs, num_classes=27).float()\n",
    "xenc"
   ]
  },
  {
   "cell_type": "code",
   "execution_count": 45,
   "metadata": {},
   "outputs": [
    {
     "data": {
      "text/plain": [
       "torch.Size([5, 27])"
      ]
     },
     "execution_count": 45,
     "metadata": {},
     "output_type": "execute_result"
    }
   ],
   "source": [
    "xenc.shape"
   ]
  },
  {
   "cell_type": "code",
   "execution_count": 46,
   "metadata": {},
   "outputs": [
    {
     "data": {
      "text/plain": [
       "<matplotlib.image.AxesImage at 0x66bbdc3f90>"
      ]
     },
     "execution_count": 46,
     "metadata": {},
     "output_type": "execute_result"
    },
    {
     "data": {
      "image/png": "[encoded data removed]",
      "text/plain": [
       "<Figure size 640x480 with 1 Axes>"
      ]
     },
     "metadata": {},
     "output_type": "display_data"
    }
   ],
   "source": [
    "plt.imshow(xenc)"
   ]
  },
  {
   "cell_type": "code",
   "execution_count": 47,
   "metadata": {},
   "outputs": [
    {
     "data": {
      "text/plain": [
       "torch.float32"
      ]
     },
     "execution_count": 47,
     "metadata": {},
     "output_type": "execute_result"
    }
   ],
   "source": [
    "xenc.dtype"
   ]
  },
  {
   "cell_type": "code",
   "execution_count": 69,
   "metadata": {},
   "outputs": [
    {
     "data": {
      "text/plain": [
       "tensor([[ 0.6177,  0.8584,  0.2193,  0.5120, -1.7037, -1.6461,  0.3151, -0.7498,\n",
       "         -0.1397, -1.0804, -0.9874, -1.2920, -0.7885, -1.5587,  0.2720,  2.2049,\n",
       "          0.2270, -0.9231,  0.3579,  1.0197, -1.1544, -0.9961,  0.7504, -1.1221,\n",
       "          0.0632,  0.8156,  1.2028],\n",
       "        [ 0.1456, -0.0185, -3.0173, -0.6349,  0.1100,  1.5027,  0.8324,  0.8916,\n",
       "         -0.3637,  0.5017,  0.7817,  1.6454,  2.3658, -0.0386, -0.0920, -1.0145,\n",
       "         -0.6451, -0.0083, -1.2843,  1.8359, -0.7501,  1.2462,  0.2918,  0.7823,\n",
       "         -1.4247,  0.0590,  0.6816],\n",
       "        [ 0.0310, -0.0831, -0.8083, -0.0057,  0.4580,  0.9969,  1.2505, -0.2712,\n",
       "         -0.9419, -1.0620,  0.0531, -0.0077, -0.5793,  0.7553, -0.6986, -1.2788,\n",
       "         -0.3175,  0.9203,  0.6678, -0.0360, -0.5985, -0.1538, -1.0119, -1.4142,\n",
       "         -0.5850,  0.7537,  0.2086],\n",
       "        [ 0.0310, -0.0831, -0.8083, -0.0057,  0.4580,  0.9969,  1.2505, -0.2712,\n",
       "         -0.9419, -1.0620,  0.0531, -0.0077, -0.5793,  0.7553, -0.6986, -1.2788,\n",
       "         -0.3175,  0.9203,  0.6678, -0.0360, -0.5985, -0.1538, -1.0119, -1.4142,\n",
       "         -0.5850,  0.7537,  0.2086],\n",
       "        [-1.4421,  1.2984, -0.9352,  0.1924,  0.9882,  0.2881, -2.1396,  0.9216,\n",
       "         -0.5172, -1.0825, -0.1630, -0.8226, -1.1335, -2.5130, -0.1011,  0.5544,\n",
       "         -0.4207,  0.4649, -1.2992,  0.7400, -0.4742,  1.6088, -0.9450,  0.0631,\n",
       "          1.4338, -1.3371, -0.1411]])"
      ]
     },
     "execution_count": 69,
     "metadata": {},
     "output_type": "execute_result"
    }
   ],
   "source": [
    "W= torch.randn((27,27))\n",
    "(xenc @ W) \n",
    "# @ operator is matrix multiplication. we are doing dot product of xenc and W"
   ]
  },
  {
   "cell_type": "code",
   "execution_count": 70,
   "metadata": {},
   "outputs": [
    {
     "data": {
      "text/plain": [
       "tensor([[0.0490, 0.0623, 0.0329, 0.0440, 0.0048, 0.0051, 0.0362, 0.0125, 0.0230,\n",
       "         0.0090, 0.0098, 0.0073, 0.0120, 0.0056, 0.0346, 0.2394, 0.0331, 0.0105,\n",
       "         0.0378, 0.0732, 0.0083, 0.0097, 0.0559, 0.0086, 0.0281, 0.0597, 0.0879],\n",
       "        [0.0212, 0.0180, 0.0009, 0.0097, 0.0205, 0.0825, 0.0422, 0.0448, 0.0128,\n",
       "         0.0303, 0.0401, 0.0951, 0.1955, 0.0177, 0.0167, 0.0067, 0.0096, 0.0182,\n",
       "         0.0051, 0.1151, 0.0087, 0.0638, 0.0246, 0.0401, 0.0044, 0.0195, 0.0363],\n",
       "        [0.0341, 0.0304, 0.0147, 0.0329, 0.0522, 0.0895, 0.1154, 0.0252, 0.0129,\n",
       "         0.0114, 0.0348, 0.0328, 0.0185, 0.0703, 0.0164, 0.0092, 0.0241, 0.0829,\n",
       "         0.0644, 0.0319, 0.0182, 0.0283, 0.0120, 0.0080, 0.0184, 0.0702, 0.0407],\n",
       "        [0.0341, 0.0304, 0.0147, 0.0329, 0.0522, 0.0895, 0.1154, 0.0252, 0.0129,\n",
       "         0.0114, 0.0348, 0.0328, 0.0185, 0.0703, 0.0164, 0.0092, 0.0241, 0.0829,\n",
       "         0.0644, 0.0319, 0.0182, 0.0283, 0.0120, 0.0080, 0.0184, 0.0702, 0.0407],\n",
       "        [0.0069, 0.1064, 0.0114, 0.0352, 0.0780, 0.0387, 0.0034, 0.0730, 0.0173,\n",
       "         0.0098, 0.0247, 0.0128, 0.0093, 0.0024, 0.0262, 0.0505, 0.0191, 0.0462,\n",
       "         0.0079, 0.0609, 0.0181, 0.1451, 0.0113, 0.0309, 0.1218, 0.0076, 0.0252]])"
      ]
     },
     "execution_count": 70,
     "metadata": {},
     "output_type": "execute_result"
    }
   ],
   "source": [
    "logits= xenc @ W        # log- counts\n",
    "counts = logits.exp()   # equivalent to tensor N in bigram\n",
    "probs = counts/counts.sum(1, keepdims= True)\n",
    "probs"
   ]
  },
  {
   "cell_type": "code",
   "execution_count": 60,
   "metadata": {},
   "outputs": [
    {
     "data": {
      "text/plain": [
       "torch.Size([5, 27])"
      ]
     },
     "execution_count": 60,
     "metadata": {},
     "output_type": "execute_result"
    }
   ],
   "source": [
    "probs.shape"
   ]
  },
  {
   "cell_type": "code",
   "execution_count": 61,
   "metadata": {},
   "outputs": [
    {
     "data": {
      "text/plain": [
       "tensor(1.)"
      ]
     },
     "execution_count": 61,
     "metadata": {},
     "output_type": "execute_result"
    }
   ],
   "source": [
    "probs[0].sum()"
   ]
  },
  {
   "cell_type": "code",
   "execution_count": null,
   "metadata": {},
   "outputs": [],
   "source": [
    "'''\n",
    "Summary till now: Doing above steps:\n",
    "'''"
   ]
  },
  {
   "cell_type": "code",
   "execution_count": 71,
   "metadata": {},
   "outputs": [
    {
     "data": {
      "text/plain": [
       "tensor([ 0,  5, 13, 13,  1])"
      ]
     },
     "execution_count": 71,
     "metadata": {},
     "output_type": "execute_result"
    }
   ],
   "source": [
    "xs"
   ]
  },
  {
   "cell_type": "code",
   "execution_count": 72,
   "metadata": {},
   "outputs": [
    {
     "data": {
      "text/plain": [
       "tensor([ 5, 13, 13,  1,  0])"
      ]
     },
     "execution_count": 72,
     "metadata": {},
     "output_type": "execute_result"
    }
   ],
   "source": [
    "ys"
   ]
  },
  {
   "cell_type": "code",
   "execution_count": 73,
   "metadata": {},
   "outputs": [],
   "source": [
    "g = torch.Generator().manual_seed(2147483647)\n",
    "W = torch.randn((27,27), generator=g)"
   ]
  },
  {
   "cell_type": "code",
   "execution_count": 75,
   "metadata": {},
   "outputs": [],
   "source": [
    "\n",
    "xenc=F.one_hot(xs, num_classes=27).float()      #input to the neural network : one- hot encoding\n",
    "logits= xenc @W         #predict log_counts\n",
    "counts= logits.exp()        #counts, equivalent to N in bigram model\n",
    "probs= counts/counts.sum(1, keepdims= True)     #probabilities for next character\n",
    "#last two lines here are together called a 'softmax'\n",
    "\n"
   ]
  },
  {
   "cell_type": "code",
   "execution_count": 76,
   "metadata": {},
   "outputs": [
    {
     "data": {
      "text/plain": [
       "torch.Size([5, 27])"
      ]
     },
     "execution_count": 76,
     "metadata": {},
     "output_type": "execute_result"
    }
   ],
   "source": [
    "probs.shape"
   ]
  },
  {
   "cell_type": "code",
   "execution_count": 77,
   "metadata": {},
   "outputs": [
    {
     "name": "stdout",
     "output_type": "stream",
     "text": [
      "-------------\n",
      "bigram example 1: .e(indexes 0,5)\n",
      "input to the neural net:  0\n",
      "output probabilities from the neural net:  tensor([0.0607, 0.0100, 0.0123, 0.0042, 0.0168, 0.0123, 0.0027, 0.0232, 0.0137,\n",
      "        0.0313, 0.0079, 0.0278, 0.0091, 0.0082, 0.0500, 0.2378, 0.0603, 0.0025,\n",
      "        0.0249, 0.0055, 0.0339, 0.0109, 0.0029, 0.0198, 0.0118, 0.1537, 0.1459])\n",
      "label (actual next character):  5\n",
      "probability assigned by the net to the correct character:  0.012286253273487091\n",
      "log likelihood:  -4.3992743492126465\n",
      "negative log likelihood:  4.3992743492126465\n",
      "-------------\n",
      "bigram example 2: em(indexes 5,13)\n",
      "input to the neural net:  5\n",
      "output probabilities from the neural net:  tensor([0.0290, 0.0796, 0.0248, 0.0521, 0.1989, 0.0289, 0.0094, 0.0335, 0.0097,\n",
      "        0.0301, 0.0702, 0.0228, 0.0115, 0.0181, 0.0108, 0.0315, 0.0291, 0.0045,\n",
      "        0.0916, 0.0215, 0.0486, 0.0300, 0.0501, 0.0027, 0.0118, 0.0022, 0.0472])\n",
      "label (actual next character):  13\n",
      "probability assigned by the net to the correct character:  0.018050702288746834\n",
      "log likelihood:  -4.014570713043213\n",
      "negative log likelihood:  4.014570713043213\n",
      "-------------\n",
      "bigram example 3: mm(indexes 13,13)\n",
      "input to the neural net:  13\n",
      "output probabilities from the neural net:  tensor([0.0312, 0.0737, 0.0484, 0.0333, 0.0674, 0.0200, 0.0263, 0.0249, 0.1226,\n",
      "        0.0164, 0.0075, 0.0789, 0.0131, 0.0267, 0.0147, 0.0112, 0.0585, 0.0121,\n",
      "        0.0650, 0.0058, 0.0208, 0.0078, 0.0133, 0.0203, 0.1204, 0.0469, 0.0126])\n",
      "label (actual next character):  13\n",
      "probability assigned by the net to the correct character:  0.026691533625125885\n",
      "log likelihood:  -3.623408794403076\n",
      "negative log likelihood:  3.623408794403076\n",
      "-------------\n",
      "bigram example 4: ma(indexes 13,1)\n",
      "input to the neural net:  13\n",
      "output probabilities from the neural net:  tensor([0.0312, 0.0737, 0.0484, 0.0333, 0.0674, 0.0200, 0.0263, 0.0249, 0.1226,\n",
      "        0.0164, 0.0075, 0.0789, 0.0131, 0.0267, 0.0147, 0.0112, 0.0585, 0.0121,\n",
      "        0.0650, 0.0058, 0.0208, 0.0078, 0.0133, 0.0203, 0.1204, 0.0469, 0.0126])\n",
      "label (actual next character):  1\n",
      "probability assigned by the net to the correct character:  0.07367684692144394\n",
      "log likelihood:  -2.6080665588378906\n",
      "negative log likelihood:  2.6080665588378906\n",
      "-------------\n",
      "bigram example 5: a.(indexes 1,0)\n",
      "input to the neural net:  1\n",
      "output probabilities from the neural net:  tensor([0.0150, 0.0086, 0.0396, 0.0100, 0.0606, 0.0308, 0.1084, 0.0131, 0.0125,\n",
      "        0.0048, 0.1024, 0.0086, 0.0988, 0.0112, 0.0232, 0.0207, 0.0408, 0.0078,\n",
      "        0.0899, 0.0531, 0.0463, 0.0309, 0.0051, 0.0329, 0.0654, 0.0503, 0.0091])\n",
      "label (actual next character):  0\n",
      "probability assigned by the net to the correct character:  0.0149775305762887\n",
      "log likelihood:  -4.201204299926758\n",
      "negative log likelihood:  4.201204299926758\n",
      "==================\n",
      "average negative log likelihood, i.e. loss= 3.7693049907684326\n"
     ]
    }
   ],
   "source": [
    "nlls= torch.zeros(5)\n",
    "for i in range(5):\n",
    "    # i-th bigram:\n",
    "    x = xs[i].item()  #input character index\n",
    "    y = ys[i].item()    # label character index\n",
    "    print('-------------')\n",
    "    print(f'bigram example {i+1}: {itos[x]}{itos[y]}(indexes {x},{y})')\n",
    "    print('input to the neural net: ',x)\n",
    "    print('output probabilities from the neural net: ', probs[i])\n",
    "    print('label (actual next character): ', y)\n",
    "    p= probs[i,y]\n",
    "    print('probability assigned by the net to the correct character: ', p.item())\n",
    "    logp=torch.log(p)\n",
    "    print('log likelihood: ', logp.item())\n",
    "    nll= -logp\n",
    "    print('negative log likelihood: ',nll.item())\n",
    "    nlls[i]=nll\n",
    "print('==================')\n",
    "print('average negative log likelihood, i.e. loss=', nlls.mean().item())"
   ]
  },
  {
   "attachments": {},
   "cell_type": "markdown",
   "metadata": {},
   "source": [
    "-----------!!! OPTIMIZATION !!! yay------------"
   ]
  },
  {
   "cell_type": "code",
   "execution_count": 102,
   "metadata": {},
   "outputs": [],
   "source": [
    "# forward pass\n",
    "\n",
    "g = torch.Generator().manual_seed(2147483647)\n",
    "W = torch.randn((27,27), generator=g, requires_grad=True)\n",
    "\n",
    "\n",
    "xenc=F.one_hot(xs, num_classes=27).float()      #input to the neural network : one- hot encoding\n",
    "logits= xenc @W         #predict log_counts\n",
    "counts= logits.exp()        #counts, equivalent to N in bigram model\n",
    "probs= counts/counts.sum(1, keepdims= True)     #probabilities for next character\n",
    "#last two lines here are together called a 'softmax'"
   ]
  },
  {
   "cell_type": "code",
   "execution_count": 103,
   "metadata": {},
   "outputs": [
    {
     "data": {
      "text/plain": [
       "torch.Size([5, 27])"
      ]
     },
     "execution_count": 103,
     "metadata": {},
     "output_type": "execute_result"
    }
   ],
   "source": [
    "probs.shape"
   ]
  },
  {
   "cell_type": "code",
   "execution_count": 104,
   "metadata": {},
   "outputs": [
    {
     "data": {
      "text/plain": [
       "(tensor(0.0123, grad_fn=<SelectBackward0>),\n",
       " tensor(0.0181, grad_fn=<SelectBackward0>),\n",
       " tensor(0.0267, grad_fn=<SelectBackward0>),\n",
       " tensor(0.0737, grad_fn=<SelectBackward0>),\n",
       " tensor(0.0150, grad_fn=<SelectBackward0>))"
      ]
     },
     "execution_count": 104,
     "metadata": {},
     "output_type": "execute_result"
    }
   ],
   "source": [
    "probs[0,5], probs[1,13], probs[2,13], probs[3,1], probs[4,0]"
   ]
  },
  {
   "cell_type": "code",
   "execution_count": 105,
   "metadata": {},
   "outputs": [
    {
     "data": {
      "text/plain": [
       "tensor([0.0123, 0.0181, 0.0267, 0.0737, 0.0150], grad_fn=<IndexBackward0>)"
      ]
     },
     "execution_count": 105,
     "metadata": {},
     "output_type": "execute_result"
    }
   ],
   "source": [
    "# we can do above cell process differently as follows:\n",
    "torch.arange(5)\n",
    "probs[torch.arange(5), ys]      #this is prob... we want log prob , then we will take mean() then put negative... i.e. we get nll as following cell\n"
   ]
  },
  {
   "cell_type": "code",
   "execution_count": 106,
   "metadata": {},
   "outputs": [
    {
     "data": {
      "text/plain": [
       "3.7693049907684326"
      ]
     },
     "execution_count": 106,
     "metadata": {},
     "output_type": "execute_result"
    }
   ],
   "source": [
    "loss= -probs[torch.arange(5), ys].log().mean()\n",
    "loss.item()"
   ]
  },
  {
   "cell_type": "code",
   "execution_count": 107,
   "metadata": {},
   "outputs": [],
   "source": [
    "# Backward pass\n",
    "W.grad=None     # set the gradient to zero\n",
    "loss.backward() "
   ]
  },
  {
   "cell_type": "code",
   "execution_count": 108,
   "metadata": {},
   "outputs": [],
   "source": [
    "# W.grad"
   ]
  },
  {
   "cell_type": "code",
   "execution_count": 109,
   "metadata": {},
   "outputs": [
    {
     "data": {
      "text/plain": [
       "torch.Size([27, 27])"
      ]
     },
     "execution_count": 109,
     "metadata": {},
     "output_type": "execute_result"
    }
   ],
   "source": [
    "W.shape"
   ]
  },
  {
   "cell_type": "code",
   "execution_count": 110,
   "metadata": {},
   "outputs": [],
   "source": [
    "# update\n",
    "\n",
    "W.data+= -0.1 * W.grad"
   ]
  },
  {
   "cell_type": "code",
   "execution_count": 111,
   "metadata": {},
   "outputs": [
    {
     "name": "stdout",
     "output_type": "stream",
     "text": [
      "3.7693049907684326\n"
     ]
    }
   ],
   "source": [
    " print(loss.item())"
   ]
  },
  {
   "cell_type": "code",
   "execution_count": null,
   "metadata": {},
   "outputs": [],
   "source": [
    " "
   ]
  }
 ],
 "metadata": {
  "kernelspec": {
   "display_name": "datascience",
   "language": "python",
   "name": "python3"
  },
  "language_info": {
   "codemirror_mode": {
    "name": "ipython",
    "version": 3
   },
   "file_extension": ".py",
   "mimetype": "text/x-python",
   "name": "python",
   "nbconvert_exporter": "python",
   "pygments_lexer": "ipython3",
   "version": "3.11.2"
  },
  "orig_nbformat": 4
 },
 "nbformat": 4,
 "nbformat_minor": 2
}
