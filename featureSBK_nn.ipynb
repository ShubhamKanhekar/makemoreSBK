{
 "cells": [
  {
   "attachments": {},
   "cell_type": "markdown",
   "metadata": {},
   "source": [
    "<h1>\n",
    "<b>MakeMore : Neural Network</b>\n",
    "</h1>"
   ]
  },
  {
   "cell_type": "code",
   "execution_count": 2,
   "metadata": {},
   "outputs": [],
   "source": [
    "import torch\n",
    "import matplotlib.pyplot as plt"
   ]
  },
  {
   "cell_type": "code",
   "execution_count": 3,
   "metadata": {},
   "outputs": [
    {
     "data": {
      "text/plain": [
       "32033"
      ]
     },
     "execution_count": 3,
     "metadata": {},
     "output_type": "execute_result"
    }
   ],
   "source": [
    "words=[]\n",
    "with open('names.txt','r') as f:\n",
    "    words=f.read().splitlines()\n",
    "# words\n",
    "len(words)"
   ]
  },
  {
   "cell_type": "code",
   "execution_count": 4,
   "metadata": {},
   "outputs": [],
   "source": [
    "# prerequisites\n",
    "\n",
    "all_chars=sorted(list(set(''.join(words))))\n",
    "stoi={ch:i+1 for i,ch in enumerate(all_chars)}\n",
    "stoi['.']=0\n",
    "itos={i:s for s,i in stoi.items()}      #stoi.items returns a tuple with key and value pairs\n",
    "# itos\n",
    "\n",
    "N=torch.zeros((27,27), dtype= torch.int32)\n",
    "# N\n"
   ]
  },
  {
   "cell_type": "code",
   "execution_count": 5,
   "metadata": {},
   "outputs": [
    {
     "name": "stdout",
     "output_type": "stream",
     "text": [
      ". e\n",
      "e m\n",
      "m m\n",
      "m a\n",
      "a .\n"
     ]
    }
   ],
   "source": [
    "# create the training set of all the bigrams(x,y)\n",
    "xs, ys= [],[]\n",
    "for w in words[:1]:\n",
    "    chs=['.'] +list(w) + ['.']\n",
    "    for ch1, ch2 in zip(chs, chs[1:]):\n",
    "        ix1=stoi[ch1]\n",
    "        ix2= stoi[ch2]\n",
    "        print(ch1,ch2)\n",
    "        xs.append(ix1)\n",
    "        ys.append(ix2)\n",
    "\n",
    "\n",
    "xs=torch.tensor(xs)\n",
    "ys = torch.tensor(ys)        "
   ]
  },
  {
   "cell_type": "code",
   "execution_count": 6,
   "metadata": {},
   "outputs": [
    {
     "data": {
      "text/plain": [
       "tensor([[1., 0., 0., 0., 0., 0., 0., 0., 0., 0., 0., 0., 0., 0., 0., 0., 0., 0.,\n",
       "         0., 0., 0., 0., 0., 0., 0., 0., 0.],\n",
       "        [0., 0., 0., 0., 0., 1., 0., 0., 0., 0., 0., 0., 0., 0., 0., 0., 0., 0.,\n",
       "         0., 0., 0., 0., 0., 0., 0., 0., 0.],\n",
       "        [0., 0., 0., 0., 0., 0., 0., 0., 0., 0., 0., 0., 0., 1., 0., 0., 0., 0.,\n",
       "         0., 0., 0., 0., 0., 0., 0., 0., 0.],\n",
       "        [0., 0., 0., 0., 0., 0., 0., 0., 0., 0., 0., 0., 0., 1., 0., 0., 0., 0.,\n",
       "         0., 0., 0., 0., 0., 0., 0., 0., 0.],\n",
       "        [0., 1., 0., 0., 0., 0., 0., 0., 0., 0., 0., 0., 0., 0., 0., 0., 0., 0.,\n",
       "         0., 0., 0., 0., 0., 0., 0., 0., 0.]])"
      ]
     },
     "execution_count": 6,
     "metadata": {},
     "output_type": "execute_result"
    }
   ],
   "source": [
    "import torch.nn.functional as F\n",
    "xenc = F.one_hot(xs, num_classes=27).float()\n",
    "xenc"
   ]
  },
  {
   "cell_type": "code",
   "execution_count": 7,
   "metadata": {},
   "outputs": [
    {
     "data": {
      "text/plain": [
       "torch.Size([5, 27])"
      ]
     },
     "execution_count": 7,
     "metadata": {},
     "output_type": "execute_result"
    }
   ],
   "source": [
    "xenc.shape"
   ]
  },
  {
   "cell_type": "code",
   "execution_count": 8,
   "metadata": {},
   "outputs": [
    {
     "data": {
      "text/plain": [
       "<matplotlib.image.AxesImage at 0xc8d05d8d50>"
      ]
     },
     "execution_count": 8,
     "metadata": {},
     "output_type": "execute_result"
    },
    {
     "data": {
      "image/png": "[encoded data removed]",
      "text/plain": [
       "<Figure size 640x480 with 1 Axes>"
      ]
     },
     "metadata": {},
     "output_type": "display_data"
    }
   ],
   "source": [
    "plt.imshow(xenc)"
   ]
  },
  {
   "cell_type": "code",
   "execution_count": 9,
   "metadata": {},
   "outputs": [
    {
     "data": {
      "text/plain": [
       "torch.float32"
      ]
     },
     "execution_count": 9,
     "metadata": {},
     "output_type": "execute_result"
    }
   ],
   "source": [
    "xenc.dtype"
   ]
  },
  {
   "cell_type": "code",
   "execution_count": 10,
   "metadata": {},
   "outputs": [
    {
     "data": {
      "text/plain": [
       "tensor([[ 0.7531, -0.4017, -1.1782,  0.0069, -0.6945,  0.5091,  0.5440,  0.9185,\n",
       "          1.4714, -0.1996, -0.9571,  0.3091, -0.0066, -1.3297,  0.6426,  1.1433,\n",
       "          0.0638,  0.7770, -1.0253,  0.5851, -0.1194,  0.3019,  0.2331,  0.2657,\n",
       "          0.3289,  0.3973, -1.5772],\n",
       "        [-0.9170, -1.2716, -0.7559, -1.4792, -0.7901, -0.3576, -0.7766,  0.3768,\n",
       "         -0.1854, -1.6494, -1.2642, -0.1086,  1.1364, -0.1442, -0.4928,  0.6877,\n",
       "         -3.0721, -0.1740, -1.2669, -1.5358,  0.3911, -0.8186, -0.1334,  0.0329,\n",
       "         -0.4463,  0.5330,  0.4349],\n",
       "        [ 0.3062, -0.4646,  0.0305,  1.4217, -0.1976,  0.5640, -0.7258, -1.0762,\n",
       "          0.2029,  0.4462, -1.6788,  1.2280, -0.8516,  0.5966, -0.4052,  0.1767,\n",
       "          0.4723,  0.8512,  0.0592, -1.7091, -0.4680, -0.0806,  0.3697,  0.5634,\n",
       "         -0.1501,  1.8996, -0.3242],\n",
       "        [ 0.3062, -0.4646,  0.0305,  1.4217, -0.1976,  0.5640, -0.7258, -1.0762,\n",
       "          0.2029,  0.4462, -1.6788,  1.2280, -0.8516,  0.5966, -0.4052,  0.1767,\n",
       "          0.4723,  0.8512,  0.0592, -1.7091, -0.4680, -0.0806,  0.3697,  0.5634,\n",
       "         -0.1501,  1.8996, -0.3242],\n",
       "        [-1.3650,  0.0812, -0.5697, -2.4468,  1.5447, -0.2966, -1.2254, -0.4883,\n",
       "          2.6145, -0.6185, -0.2717,  0.2488,  0.6322, -2.0116, -1.0508,  0.4030,\n",
       "         -0.0768, -0.3508,  0.2249, -1.7680,  0.4908, -0.2289, -1.5472,  0.9615,\n",
       "          1.0101, -1.9416,  0.8440]])"
      ]
     },
     "execution_count": 10,
     "metadata": {},
     "output_type": "execute_result"
    }
   ],
   "source": [
    "W= torch.randn((27,27))\n",
    "(xenc @ W) \n",
    "# @ operator is matrix multiplication. we are doing dot product of xenc and W"
   ]
  },
  {
   "cell_type": "code",
   "execution_count": 11,
   "metadata": {},
   "outputs": [
    {
     "data": {
      "text/plain": [
       "tensor([[0.0574, 0.0181, 0.0083, 0.0272, 0.0135, 0.0450, 0.0466, 0.0677, 0.1177,\n",
       "         0.0221, 0.0104, 0.0368, 0.0268, 0.0072, 0.0514, 0.0848, 0.0288, 0.0588,\n",
       "         0.0097, 0.0485, 0.0240, 0.0366, 0.0341, 0.0353, 0.0376, 0.0402, 0.0056],\n",
       "        [0.0179, 0.0126, 0.0210, 0.0102, 0.0203, 0.0313, 0.0206, 0.0653, 0.0372,\n",
       "         0.0086, 0.0126, 0.0402, 0.1395, 0.0388, 0.0274, 0.0891, 0.0021, 0.0376,\n",
       "         0.0126, 0.0096, 0.0662, 0.0197, 0.0392, 0.0463, 0.0287, 0.0763, 0.0692],\n",
       "        [0.0346, 0.0160, 0.0263, 0.1055, 0.0209, 0.0448, 0.0123, 0.0087, 0.0312,\n",
       "         0.0398, 0.0048, 0.0870, 0.0109, 0.0462, 0.0170, 0.0304, 0.0408, 0.0597,\n",
       "         0.0270, 0.0046, 0.0160, 0.0235, 0.0369, 0.0447, 0.0219, 0.1702, 0.0184],\n",
       "        [0.0346, 0.0160, 0.0263, 0.1055, 0.0209, 0.0448, 0.0123, 0.0087, 0.0312,\n",
       "         0.0398, 0.0048, 0.0870, 0.0109, 0.0462, 0.0170, 0.0304, 0.0408, 0.0597,\n",
       "         0.0270, 0.0046, 0.0160, 0.0235, 0.0369, 0.0447, 0.0219, 0.1702, 0.0184],\n",
       "        [0.0061, 0.0258, 0.0135, 0.0021, 0.1117, 0.0177, 0.0070, 0.0146, 0.3256,\n",
       "         0.0128, 0.0182, 0.0306, 0.0448, 0.0032, 0.0083, 0.0357, 0.0221, 0.0168,\n",
       "         0.0298, 0.0041, 0.0389, 0.0190, 0.0051, 0.0623, 0.0654, 0.0034, 0.0554]])"
      ]
     },
     "execution_count": 11,
     "metadata": {},
     "output_type": "execute_result"
    }
   ],
   "source": [
    "logits= xenc @ W        # log- counts\n",
    "counts = logits.exp()   # equivalent to tensor N in bigram\n",
    "probs = counts/counts.sum(1, keepdims= True)\n",
    "probs"
   ]
  },
  {
   "cell_type": "code",
   "execution_count": 12,
   "metadata": {},
   "outputs": [
    {
     "data": {
      "text/plain": [
       "torch.Size([5, 27])"
      ]
     },
     "execution_count": 12,
     "metadata": {},
     "output_type": "execute_result"
    }
   ],
   "source": [
    "probs.shape"
   ]
  },
  {
   "cell_type": "code",
   "execution_count": 13,
   "metadata": {},
   "outputs": [
    {
     "data": {
      "text/plain": [
       "tensor(1.0000)"
      ]
     },
     "execution_count": 13,
     "metadata": {},
     "output_type": "execute_result"
    }
   ],
   "source": [
    "probs[0].sum()"
   ]
  },
  {
   "cell_type": "code",
   "execution_count": 14,
   "metadata": {},
   "outputs": [
    {
     "data": {
      "text/plain": [
       "'\\nSummary till now: Doing above steps:\\n'"
      ]
     },
     "execution_count": 14,
     "metadata": {},
     "output_type": "execute_result"
    }
   ],
   "source": [
    "'''\n",
    "Summary till now: Doing above steps:\n",
    "'''"
   ]
  },
  {
   "cell_type": "code",
   "execution_count": 15,
   "metadata": {},
   "outputs": [
    {
     "data": {
      "text/plain": [
       "tensor([ 0,  5, 13, 13,  1])"
      ]
     },
     "execution_count": 15,
     "metadata": {},
     "output_type": "execute_result"
    }
   ],
   "source": [
    "xs"
   ]
  },
  {
   "cell_type": "code",
   "execution_count": 16,
   "metadata": {},
   "outputs": [
    {
     "data": {
      "text/plain": [
       "tensor([ 5, 13, 13,  1,  0])"
      ]
     },
     "execution_count": 16,
     "metadata": {},
     "output_type": "execute_result"
    }
   ],
   "source": [
    "ys"
   ]
  },
  {
   "cell_type": "code",
   "execution_count": 17,
   "metadata": {},
   "outputs": [],
   "source": [
    "g = torch.Generator().manual_seed(2147483647)\n",
    "W = torch.randn((27,27), generator=g)"
   ]
  },
  {
   "cell_type": "code",
   "execution_count": 18,
   "metadata": {},
   "outputs": [],
   "source": [
    "\n",
    "xenc=F.one_hot(xs, num_classes=27).float()      #input to the neural network : one- hot encoding\n",
    "logits= xenc @W         #predict log_counts\n",
    "counts= logits.exp()        #counts, equivalent to N in bigram model\n",
    "probs= counts/counts.sum(1, keepdims= True)     #probabilities for next character\n",
    "#last two lines here are together called a 'softmax'\n",
    "\n"
   ]
  },
  {
   "cell_type": "code",
   "execution_count": 19,
   "metadata": {},
   "outputs": [
    {
     "data": {
      "text/plain": [
       "torch.Size([5, 27])"
      ]
     },
     "execution_count": 19,
     "metadata": {},
     "output_type": "execute_result"
    }
   ],
   "source": [
    "probs.shape"
   ]
  },
  {
   "cell_type": "code",
   "execution_count": 39,
   "metadata": {},
   "outputs": [
    {
     "name": "stdout",
     "output_type": "stream",
     "text": [
      "-------------\n",
      "bigram example 1: .e(indexes 0,5)\n",
      "input to the neural net:  0\n",
      "output probabilities from the neural net:  tensor([0.0607, 0.0100, 0.0123, 0.0042, 0.0168, 0.0123, 0.0027, 0.0232, 0.0137,\n",
      "        0.0313, 0.0079, 0.0278, 0.0091, 0.0082, 0.0500, 0.2378, 0.0603, 0.0025,\n",
      "        0.0249, 0.0055, 0.0339, 0.0109, 0.0029, 0.0198, 0.0118, 0.1537, 0.1459],\n",
      "       grad_fn=<SelectBackward0>)\n",
      "label (actual next character):  5\n",
      "probability assigned by the net to the correct character:  0.012286253273487091\n",
      "log likelihood:  -4.3992743492126465\n",
      "negative log likelihood:  4.3992743492126465\n",
      "-------------\n",
      "bigram example 2: em(indexes 5,13)\n",
      "input to the neural net:  5\n",
      "output probabilities from the neural net:  tensor([0.0290, 0.0796, 0.0248, 0.0521, 0.1989, 0.0289, 0.0094, 0.0335, 0.0097,\n",
      "        0.0301, 0.0702, 0.0228, 0.0115, 0.0181, 0.0108, 0.0315, 0.0291, 0.0045,\n",
      "        0.0916, 0.0215, 0.0486, 0.0300, 0.0501, 0.0027, 0.0118, 0.0022, 0.0472],\n",
      "       grad_fn=<SelectBackward0>)\n",
      "label (actual next character):  13\n",
      "probability assigned by the net to the correct character:  0.018050702288746834\n",
      "log likelihood:  -4.014570713043213\n",
      "negative log likelihood:  4.014570713043213\n",
      "-------------\n",
      "bigram example 3: mm(indexes 13,13)\n",
      "input to the neural net:  13\n",
      "output probabilities from the neural net:  tensor([0.0312, 0.0737, 0.0484, 0.0333, 0.0674, 0.0200, 0.0263, 0.0249, 0.1226,\n",
      "        0.0164, 0.0075, 0.0789, 0.0131, 0.0267, 0.0147, 0.0112, 0.0585, 0.0121,\n",
      "        0.0650, 0.0058, 0.0208, 0.0078, 0.0133, 0.0203, 0.1204, 0.0469, 0.0126],\n",
      "       grad_fn=<SelectBackward0>)\n",
      "label (actual next character):  13\n",
      "probability assigned by the net to the correct character:  0.026691533625125885\n",
      "log likelihood:  -3.623408794403076\n",
      "negative log likelihood:  3.623408794403076\n",
      "-------------\n",
      "bigram example 4: ma(indexes 13,1)\n",
      "input to the neural net:  13\n",
      "output probabilities from the neural net:  tensor([0.0312, 0.0737, 0.0484, 0.0333, 0.0674, 0.0200, 0.0263, 0.0249, 0.1226,\n",
      "        0.0164, 0.0075, 0.0789, 0.0131, 0.0267, 0.0147, 0.0112, 0.0585, 0.0121,\n",
      "        0.0650, 0.0058, 0.0208, 0.0078, 0.0133, 0.0203, 0.1204, 0.0469, 0.0126],\n",
      "       grad_fn=<SelectBackward0>)\n",
      "label (actual next character):  1\n",
      "probability assigned by the net to the correct character:  0.07367684692144394\n",
      "log likelihood:  -2.6080665588378906\n",
      "negative log likelihood:  2.6080665588378906\n",
      "-------------\n",
      "bigram example 5: a.(indexes 1,0)\n",
      "input to the neural net:  1\n",
      "output probabilities from the neural net:  tensor([0.0150, 0.0086, 0.0396, 0.0100, 0.0606, 0.0308, 0.1084, 0.0131, 0.0125,\n",
      "        0.0048, 0.1024, 0.0086, 0.0988, 0.0112, 0.0232, 0.0207, 0.0408, 0.0078,\n",
      "        0.0899, 0.0531, 0.0463, 0.0309, 0.0051, 0.0329, 0.0654, 0.0503, 0.0091],\n",
      "       grad_fn=<SelectBackward0>)\n",
      "label (actual next character):  0\n",
      "probability assigned by the net to the correct character:  0.0149775305762887\n",
      "log likelihood:  -4.201204299926758\n",
      "negative log likelihood:  4.201204299926758\n",
      "==================\n",
      "average negative log likelihood, i.e. loss= 3.7693049907684326\n"
     ]
    }
   ],
   "source": [
    "nlls= torch.zeros(5)\n",
    "for i in range(5):\n",
    "    # i-th bigram:\n",
    "    x = xs[i].item()  #input character index\n",
    "    y = ys[i].item()    # label character index\n",
    "    print('-------------')\n",
    "    print(f'bigram example {i+1}: {itos[x]}{itos[y]}(indexes {x},{y})')\n",
    "    print('input to the neural net: ',x)\n",
    "    print('output probabilities from the neural net: ', probs[i])\n",
    "    print('label (actual next character): ', y)\n",
    "    p= probs[i,y]\n",
    "    print('probability assigned by the net to the correct character: ', p.item())\n",
    "    logp=torch.log(p)\n",
    "    print('log likelihood: ', logp.item())\n",
    "    nll= -logp\n",
    "    print('negative log likelihood: ',nll.item())\n",
    "    nlls[i]=nll\n",
    "print('==================')\n",
    "print('average negative log likelihood, i.e. loss=', nlls.mean().item())"
   ]
  },
  {
   "attachments": {},
   "cell_type": "markdown",
   "metadata": {},
   "source": [
    "-----------!!! OPTIMIZATION !!! yay------------"
   ]
  },
  {
   "cell_type": "code",
   "execution_count": 40,
   "metadata": {},
   "outputs": [],
   "source": [
    "# forward pass\n",
    "\n",
    "g = torch.Generator().manual_seed(2147483647)\n",
    "W = torch.randn((27,27), generator=g, requires_grad=True)           # requires_grad has to be true because we want to find gradients later for optimization(grad descent)\n",
    "\n",
    "\n",
    "xenc=F.one_hot(xs, num_classes=27).float()      #input to the neural network : one- hot encoding\n",
    "logits= xenc @W         #predict log_counts\n",
    "counts= logits.exp()        #counts, equivalent to N in bigram model\n",
    "probs= counts/counts.sum(1, keepdims= True)     #probabilities for next character\n",
    "#last two lines here are together called a 'softmax'"
   ]
  },
  {
   "cell_type": "code",
   "execution_count": 41,
   "metadata": {},
   "outputs": [
    {
     "data": {
      "text/plain": [
       "torch.Size([5, 27])"
      ]
     },
     "execution_count": 41,
     "metadata": {},
     "output_type": "execute_result"
    }
   ],
   "source": [
    "probs.shape"
   ]
  },
  {
   "cell_type": "code",
   "execution_count": 42,
   "metadata": {},
   "outputs": [
    {
     "data": {
      "text/plain": [
       "(tensor(0.0123, grad_fn=<SelectBackward0>),\n",
       " tensor(0.0181, grad_fn=<SelectBackward0>),\n",
       " tensor(0.0267, grad_fn=<SelectBackward0>),\n",
       " tensor(0.0737, grad_fn=<SelectBackward0>),\n",
       " tensor(0.0150, grad_fn=<SelectBackward0>))"
      ]
     },
     "execution_count": 42,
     "metadata": {},
     "output_type": "execute_result"
    }
   ],
   "source": [
    "probs[0,5], probs[1,13], probs[2,13], probs[3,1], probs[4,0]"
   ]
  },
  {
   "cell_type": "code",
   "execution_count": 43,
   "metadata": {},
   "outputs": [
    {
     "data": {
      "text/plain": [
       "tensor([0.0123, 0.0181, 0.0267, 0.0737, 0.0150], grad_fn=<IndexBackward0>)"
      ]
     },
     "execution_count": 43,
     "metadata": {},
     "output_type": "execute_result"
    }
   ],
   "source": [
    "# we can do above cell process differently as follows:\n",
    "torch.arange(5)\n",
    "probs[torch.arange(5), ys]      #this is prob... we want log prob , then we will take mean() then put negative... i.e. we get nll as following cell\n"
   ]
  },
  {
   "cell_type": "code",
   "execution_count": 44,
   "metadata": {},
   "outputs": [
    {
     "data": {
      "text/plain": [
       "3.7693049907684326"
      ]
     },
     "execution_count": 44,
     "metadata": {},
     "output_type": "execute_result"
    }
   ],
   "source": [
    "loss= -probs[torch.arange(5), ys].log().mean()\n",
    "loss.item()"
   ]
  },
  {
   "cell_type": "code",
   "execution_count": 45,
   "metadata": {},
   "outputs": [],
   "source": [
    "# Backward pass\n",
    "W.grad=None     # set the gradient to zero, we can also set it to zero but None is better ;)\n",
    "loss.backward() "
   ]
  },
  {
   "cell_type": "code",
   "execution_count": 38,
   "metadata": {},
   "outputs": [
    {
     "data": {
      "text/plain": [
       "tensor([[ 0.0121,  0.0020,  0.0025,  0.0008,  0.0034, -0.1975,  0.0005,  0.0046,\n",
       "          0.0027,  0.0063,  0.0016,  0.0056,  0.0018,  0.0016,  0.0100,  0.0476,\n",
       "          0.0121,  0.0005,  0.0050,  0.0011,  0.0068,  0.0022,  0.0006,  0.0040,\n",
       "          0.0024,  0.0307,  0.0292],\n",
       "        [-0.1970,  0.0017,  0.0079,  0.0020,  0.0121,  0.0062,  0.0217,  0.0026,\n",
       "          0.0025,  0.0010,  0.0205,  0.0017,  0.0198,  0.0022,  0.0046,  0.0041,\n",
       "          0.0082,  0.0016,  0.0180,  0.0106,  0.0093,  0.0062,  0.0010,  0.0066,\n",
       "          0.0131,  0.0101,  0.0018],\n",
       "        [ 0.0000,  0.0000,  0.0000,  0.0000,  0.0000,  0.0000,  0.0000,  0.0000,\n",
       "          0.0000,  0.0000,  0.0000,  0.0000,  0.0000,  0.0000,  0.0000,  0.0000,\n",
       "          0.0000,  0.0000,  0.0000,  0.0000,  0.0000,  0.0000,  0.0000,  0.0000,\n",
       "          0.0000,  0.0000,  0.0000],\n",
       "        [ 0.0000,  0.0000,  0.0000,  0.0000,  0.0000,  0.0000,  0.0000,  0.0000,\n",
       "          0.0000,  0.0000,  0.0000,  0.0000,  0.0000,  0.0000,  0.0000,  0.0000,\n",
       "          0.0000,  0.0000,  0.0000,  0.0000,  0.0000,  0.0000,  0.0000,  0.0000,\n",
       "          0.0000,  0.0000,  0.0000],\n",
       "        [ 0.0000,  0.0000,  0.0000,  0.0000,  0.0000,  0.0000,  0.0000,  0.0000,\n",
       "          0.0000,  0.0000,  0.0000,  0.0000,  0.0000,  0.0000,  0.0000,  0.0000,\n",
       "          0.0000,  0.0000,  0.0000,  0.0000,  0.0000,  0.0000,  0.0000,  0.0000,\n",
       "          0.0000,  0.0000,  0.0000],\n",
       "        [ 0.0058,  0.0159,  0.0050,  0.0104,  0.0398,  0.0058,  0.0019,  0.0067,\n",
       "          0.0019,  0.0060,  0.0140,  0.0046,  0.0023, -0.1964,  0.0022,  0.0063,\n",
       "          0.0058,  0.0009,  0.0183,  0.0043,  0.0097,  0.0060,  0.0100,  0.0005,\n",
       "          0.0024,  0.0004,  0.0094],\n",
       "        [ 0.0000,  0.0000,  0.0000,  0.0000,  0.0000,  0.0000,  0.0000,  0.0000,\n",
       "          0.0000,  0.0000,  0.0000,  0.0000,  0.0000,  0.0000,  0.0000,  0.0000,\n",
       "          0.0000,  0.0000,  0.0000,  0.0000,  0.0000,  0.0000,  0.0000,  0.0000,\n",
       "          0.0000,  0.0000,  0.0000],\n",
       "        [ 0.0000,  0.0000,  0.0000,  0.0000,  0.0000,  0.0000,  0.0000,  0.0000,\n",
       "          0.0000,  0.0000,  0.0000,  0.0000,  0.0000,  0.0000,  0.0000,  0.0000,\n",
       "          0.0000,  0.0000,  0.0000,  0.0000,  0.0000,  0.0000,  0.0000,  0.0000,\n",
       "          0.0000,  0.0000,  0.0000],\n",
       "        [ 0.0000,  0.0000,  0.0000,  0.0000,  0.0000,  0.0000,  0.0000,  0.0000,\n",
       "          0.0000,  0.0000,  0.0000,  0.0000,  0.0000,  0.0000,  0.0000,  0.0000,\n",
       "          0.0000,  0.0000,  0.0000,  0.0000,  0.0000,  0.0000,  0.0000,  0.0000,\n",
       "          0.0000,  0.0000,  0.0000],\n",
       "        [ 0.0000,  0.0000,  0.0000,  0.0000,  0.0000,  0.0000,  0.0000,  0.0000,\n",
       "          0.0000,  0.0000,  0.0000,  0.0000,  0.0000,  0.0000,  0.0000,  0.0000,\n",
       "          0.0000,  0.0000,  0.0000,  0.0000,  0.0000,  0.0000,  0.0000,  0.0000,\n",
       "          0.0000,  0.0000,  0.0000],\n",
       "        [ 0.0000,  0.0000,  0.0000,  0.0000,  0.0000,  0.0000,  0.0000,  0.0000,\n",
       "          0.0000,  0.0000,  0.0000,  0.0000,  0.0000,  0.0000,  0.0000,  0.0000,\n",
       "          0.0000,  0.0000,  0.0000,  0.0000,  0.0000,  0.0000,  0.0000,  0.0000,\n",
       "          0.0000,  0.0000,  0.0000],\n",
       "        [ 0.0000,  0.0000,  0.0000,  0.0000,  0.0000,  0.0000,  0.0000,  0.0000,\n",
       "          0.0000,  0.0000,  0.0000,  0.0000,  0.0000,  0.0000,  0.0000,  0.0000,\n",
       "          0.0000,  0.0000,  0.0000,  0.0000,  0.0000,  0.0000,  0.0000,  0.0000,\n",
       "          0.0000,  0.0000,  0.0000],\n",
       "        [ 0.0000,  0.0000,  0.0000,  0.0000,  0.0000,  0.0000,  0.0000,  0.0000,\n",
       "          0.0000,  0.0000,  0.0000,  0.0000,  0.0000,  0.0000,  0.0000,  0.0000,\n",
       "          0.0000,  0.0000,  0.0000,  0.0000,  0.0000,  0.0000,  0.0000,  0.0000,\n",
       "          0.0000,  0.0000,  0.0000],\n",
       "        [ 0.0125, -0.1705,  0.0194,  0.0133,  0.0270,  0.0080,  0.0105,  0.0100,\n",
       "          0.0490,  0.0066,  0.0030,  0.0316,  0.0052, -0.1893,  0.0059,  0.0045,\n",
       "          0.0234,  0.0049,  0.0260,  0.0023,  0.0083,  0.0031,  0.0053,  0.0081,\n",
       "          0.0482,  0.0187,  0.0051],\n",
       "        [ 0.0000,  0.0000,  0.0000,  0.0000,  0.0000,  0.0000,  0.0000,  0.0000,\n",
       "          0.0000,  0.0000,  0.0000,  0.0000,  0.0000,  0.0000,  0.0000,  0.0000,\n",
       "          0.0000,  0.0000,  0.0000,  0.0000,  0.0000,  0.0000,  0.0000,  0.0000,\n",
       "          0.0000,  0.0000,  0.0000],\n",
       "        [ 0.0000,  0.0000,  0.0000,  0.0000,  0.0000,  0.0000,  0.0000,  0.0000,\n",
       "          0.0000,  0.0000,  0.0000,  0.0000,  0.0000,  0.0000,  0.0000,  0.0000,\n",
       "          0.0000,  0.0000,  0.0000,  0.0000,  0.0000,  0.0000,  0.0000,  0.0000,\n",
       "          0.0000,  0.0000,  0.0000],\n",
       "        [ 0.0000,  0.0000,  0.0000,  0.0000,  0.0000,  0.0000,  0.0000,  0.0000,\n",
       "          0.0000,  0.0000,  0.0000,  0.0000,  0.0000,  0.0000,  0.0000,  0.0000,\n",
       "          0.0000,  0.0000,  0.0000,  0.0000,  0.0000,  0.0000,  0.0000,  0.0000,\n",
       "          0.0000,  0.0000,  0.0000],\n",
       "        [ 0.0000,  0.0000,  0.0000,  0.0000,  0.0000,  0.0000,  0.0000,  0.0000,\n",
       "          0.0000,  0.0000,  0.0000,  0.0000,  0.0000,  0.0000,  0.0000,  0.0000,\n",
       "          0.0000,  0.0000,  0.0000,  0.0000,  0.0000,  0.0000,  0.0000,  0.0000,\n",
       "          0.0000,  0.0000,  0.0000],\n",
       "        [ 0.0000,  0.0000,  0.0000,  0.0000,  0.0000,  0.0000,  0.0000,  0.0000,\n",
       "          0.0000,  0.0000,  0.0000,  0.0000,  0.0000,  0.0000,  0.0000,  0.0000,\n",
       "          0.0000,  0.0000,  0.0000,  0.0000,  0.0000,  0.0000,  0.0000,  0.0000,\n",
       "          0.0000,  0.0000,  0.0000],\n",
       "        [ 0.0000,  0.0000,  0.0000,  0.0000,  0.0000,  0.0000,  0.0000,  0.0000,\n",
       "          0.0000,  0.0000,  0.0000,  0.0000,  0.0000,  0.0000,  0.0000,  0.0000,\n",
       "          0.0000,  0.0000,  0.0000,  0.0000,  0.0000,  0.0000,  0.0000,  0.0000,\n",
       "          0.0000,  0.0000,  0.0000],\n",
       "        [ 0.0000,  0.0000,  0.0000,  0.0000,  0.0000,  0.0000,  0.0000,  0.0000,\n",
       "          0.0000,  0.0000,  0.0000,  0.0000,  0.0000,  0.0000,  0.0000,  0.0000,\n",
       "          0.0000,  0.0000,  0.0000,  0.0000,  0.0000,  0.0000,  0.0000,  0.0000,\n",
       "          0.0000,  0.0000,  0.0000],\n",
       "        [ 0.0000,  0.0000,  0.0000,  0.0000,  0.0000,  0.0000,  0.0000,  0.0000,\n",
       "          0.0000,  0.0000,  0.0000,  0.0000,  0.0000,  0.0000,  0.0000,  0.0000,\n",
       "          0.0000,  0.0000,  0.0000,  0.0000,  0.0000,  0.0000,  0.0000,  0.0000,\n",
       "          0.0000,  0.0000,  0.0000],\n",
       "        [ 0.0000,  0.0000,  0.0000,  0.0000,  0.0000,  0.0000,  0.0000,  0.0000,\n",
       "          0.0000,  0.0000,  0.0000,  0.0000,  0.0000,  0.0000,  0.0000,  0.0000,\n",
       "          0.0000,  0.0000,  0.0000,  0.0000,  0.0000,  0.0000,  0.0000,  0.0000,\n",
       "          0.0000,  0.0000,  0.0000],\n",
       "        [ 0.0000,  0.0000,  0.0000,  0.0000,  0.0000,  0.0000,  0.0000,  0.0000,\n",
       "          0.0000,  0.0000,  0.0000,  0.0000,  0.0000,  0.0000,  0.0000,  0.0000,\n",
       "          0.0000,  0.0000,  0.0000,  0.0000,  0.0000,  0.0000,  0.0000,  0.0000,\n",
       "          0.0000,  0.0000,  0.0000],\n",
       "        [ 0.0000,  0.0000,  0.0000,  0.0000,  0.0000,  0.0000,  0.0000,  0.0000,\n",
       "          0.0000,  0.0000,  0.0000,  0.0000,  0.0000,  0.0000,  0.0000,  0.0000,\n",
       "          0.0000,  0.0000,  0.0000,  0.0000,  0.0000,  0.0000,  0.0000,  0.0000,\n",
       "          0.0000,  0.0000,  0.0000],\n",
       "        [ 0.0000,  0.0000,  0.0000,  0.0000,  0.0000,  0.0000,  0.0000,  0.0000,\n",
       "          0.0000,  0.0000,  0.0000,  0.0000,  0.0000,  0.0000,  0.0000,  0.0000,\n",
       "          0.0000,  0.0000,  0.0000,  0.0000,  0.0000,  0.0000,  0.0000,  0.0000,\n",
       "          0.0000,  0.0000,  0.0000],\n",
       "        [ 0.0000,  0.0000,  0.0000,  0.0000,  0.0000,  0.0000,  0.0000,  0.0000,\n",
       "          0.0000,  0.0000,  0.0000,  0.0000,  0.0000,  0.0000,  0.0000,  0.0000,\n",
       "          0.0000,  0.0000,  0.0000,  0.0000,  0.0000,  0.0000,  0.0000,  0.0000,\n",
       "          0.0000,  0.0000,  0.0000]])"
      ]
     },
     "execution_count": 38,
     "metadata": {},
     "output_type": "execute_result"
    }
   ],
   "source": [
    "W.grad"
   ]
  },
  {
   "cell_type": "code",
   "execution_count": 46,
   "metadata": {},
   "outputs": [
    {
     "data": {
      "text/plain": [
       "torch.Size([27, 27])"
      ]
     },
     "execution_count": 46,
     "metadata": {},
     "output_type": "execute_result"
    }
   ],
   "source": [
    "W.shape"
   ]
  },
  {
   "cell_type": "code",
   "execution_count": 47,
   "metadata": {},
   "outputs": [],
   "source": [
    "# update\n",
    "\n",
    "W.data+= -0.1 * W.grad"
   ]
  },
  {
   "cell_type": "code",
   "execution_count": 48,
   "metadata": {},
   "outputs": [
    {
     "name": "stdout",
     "output_type": "stream",
     "text": [
      "3.7693049907684326\n"
     ]
    }
   ],
   "source": [
    " print(loss.item())"
   ]
  },
  {
   "attachments": {},
   "cell_type": "markdown",
   "metadata": {},
   "source": [
    "Here we are dealing with classification model, so loss calculation is done by negative log likelihood.<br>\n",
    "In case of   Regression models, we would have used RMSE or MSE. ref torch_prac.ipynb "
   ]
  },
  {
   "attachments": {},
   "cell_type": "markdown",
   "metadata": {},
   "source": [
    "<h1>Optimization !! (actually)</h1><p>Putting all the steps together now. i.e. create dataset, gradeint descent, </p>"
   ]
  },
  {
   "cell_type": "code",
   "execution_count": 53,
   "metadata": {},
   "outputs": [
    {
     "name": "stdout",
     "output_type": "stream",
     "text": [
      "number of examples:  228146\n"
     ]
    }
   ],
   "source": [
    "#create the dataset\n",
    "xs, ys= [],[]\n",
    "for w in words:\n",
    "    chs=['.']+ list(w) + ['.']\n",
    "    for ch1, ch2 in zip(chs, chs[1:]):\n",
    "        ix1= stoi[ch1]\n",
    "        ix2= stoi[ch2]\n",
    "        xs.append(ix1)\n",
    "        ys.append(ix2)\n",
    "xs= torch.tensor(xs)\n",
    "ys= torch. tensor(ys)\n",
    "num= xs.nelement()\n",
    "print('number of examples: ', num)\n",
    "\n",
    "# initialize the 'network' \n",
    "g= torch.Generator().manual_seed(2147483647)\n",
    "W= torch.randn((27,27), generator= g, requires_grad=True)"
   ]
  },
  {
   "cell_type": "code",
   "execution_count": 59,
   "metadata": {},
   "outputs": [
    {
     "data": {
      "text/plain": [
       "tensor(2.3961, grad_fn=<MeanBackward0>)"
      ]
     },
     "execution_count": 59,
     "metadata": {},
     "output_type": "execute_result"
    }
   ],
   "source": [
    "(W**2).mean()"
   ]
  },
  {
   "cell_type": "code",
   "execution_count": 57,
   "metadata": {},
   "outputs": [
    {
     "name": "stdout",
     "output_type": "stream",
     "text": [
      "2.4618985652923584\n",
      "2.4618561267852783\n",
      "2.4618144035339355\n",
      "2.46177339553833\n",
      "2.4617323875427246\n",
      "2.4616918563842773\n",
      "2.4616518020629883\n",
      "2.4616119861602783\n",
      "2.4615728855133057\n",
      "2.461534023284912\n",
      "2.4614953994750977\n",
      "2.4614572525024414\n",
      "2.4614193439483643\n",
      "2.461381673812866\n",
      "2.4613449573516846\n",
      "2.461308240890503\n",
      "2.4612720012664795\n",
      "2.461236000061035\n",
      "2.46120023727417\n",
      "2.461164712905884\n",
      "2.461129665374756\n",
      "2.461095094680786\n",
      "2.4610605239868164\n",
      "2.461026668548584\n",
      "2.4609928131103516\n",
      "2.4609596729278564\n",
      "2.4609262943267822\n",
      "2.460893392562866\n",
      "2.4608609676361084\n",
      "2.4608285427093506\n",
      "2.46079683303833\n",
      "2.4607648849487305\n",
      "2.460733413696289\n",
      "2.460702896118164\n",
      "2.4606716632843018\n",
      "2.4606411457061768\n",
      "2.46061110496521\n",
      "2.460580825805664\n",
      "2.4605510234832764\n",
      "2.4605214595794678\n",
      "2.460491895675659\n",
      "2.460462808609009\n",
      "2.4604344367980957\n",
      "2.4604058265686035\n",
      "2.4603774547576904\n",
      "2.4603493213653564\n",
      "2.4603214263916016\n",
      "2.4602935314178467\n",
      "2.460266351699829\n",
      "2.4602391719818115\n",
      "2.460212469100952\n",
      "2.4601855278015137\n",
      "2.4601590633392334\n",
      "2.460132360458374\n",
      "2.460106611251831\n",
      "2.460080623626709\n",
      "2.460055112838745\n",
      "2.4600300788879395\n",
      "2.4600043296813965\n",
      "2.4599790573120117\n",
      "2.459954261779785\n",
      "2.4599297046661377\n",
      "2.4599051475524902\n",
      "2.459881067276001\n",
      "2.4598565101623535\n",
      "2.4598326683044434\n",
      "2.4598090648651123\n",
      "2.4597854614257812\n",
      "2.4597620964050293\n",
      "2.4597387313842773\n",
      "2.4597160816192627\n",
      "2.4596927165985107\n",
      "2.459670305252075\n",
      "2.4596478939056396\n",
      "2.459625720977783\n",
      "2.4596030712127686\n",
      "2.459581136703491\n",
      "2.459559440612793\n",
      "2.4595375061035156\n",
      "2.4595160484313965\n",
      "2.4594945907592773\n",
      "2.4594733715057373\n",
      "2.4594523906707764\n",
      "2.4594316482543945\n",
      "2.4594109058380127\n",
      "2.4593899250030518\n",
      "2.459369659423828\n",
      "2.4593489170074463\n",
      "2.4593288898468018\n",
      "2.4593088626861572\n",
      "2.459289312362671\n",
      "2.4592692852020264\n",
      "2.45924973487854\n",
      "2.4592299461364746\n",
      "2.4592108726501465\n",
      "2.4591917991638184\n",
      "2.459172487258911\n",
      "2.459153413772583\n",
      "2.459134817123413\n",
      "2.459115743637085\n"
     ]
    }
   ],
   "source": [
    "# gradient descent \n",
    "for k in  range(100):        # no of loops/ passes\n",
    "    \n",
    "    #forward pass\n",
    "    xenc= F.one_hot(xs, num_classes=27).float()     #input to the network: one-hot encoding\n",
    "    logits= xenc @ W        # predict log-counts\n",
    "    counts= logits.exp()    #counts, equivalent to N\n",
    "    probs= counts / counts.sum(1, keepdims= True)   # probabilities for next character\n",
    "    loss= -probs[torch.arange(num), ys].log().mean() + 0.01*(W**2).mean()\n",
    "    print(loss.item())\n",
    "\n",
    "    #backward pass\n",
    "    W.grad= None            #set the gradients to zero\n",
    "    loss.backward()\n",
    "\n",
    "    #update\n",
    "    W.data += -50 * W.grad\n"
   ]
  },
  {
   "cell_type": "code",
   "execution_count": 62,
   "metadata": {},
   "outputs": [
    {
     "name": "stdout",
     "output_type": "stream",
     "text": [
      "junide.\n",
      "janasah.\n",
      "prelay.\n",
      "a.\n",
      "nn.\n",
      "kohin.\n",
      "tolian.\n",
      "juee.\n",
      "ksahnaauranilevias.\n",
      "dedainrwieta.\n"
     ]
    }
   ],
   "source": [
    "# finally sample from the ' neural net' model\n",
    "g= torch.Generator().manual_seed(2147483647)\n",
    "for i in range(10):\n",
    "\n",
    "    out= []\n",
    "    ix= 0\n",
    "    while True:\n",
    "        xenc= F.one_hot(torch.tensor([ix]), num_classes=27).float()\n",
    "        logits= xenc @ W    # predict log-counts\n",
    "        counts= logits.exp()    # counts, equivalent to N\n",
    "        p= counts / counts.sum(1, keepdims=True)    # probabilities for next character\n",
    "\n",
    "        ix= torch.multinomial(p, num_samples=1, replacement=True, generator=g).item()\n",
    "        out.append(itos[ix])\n",
    "        if ix== 0:\n",
    "            break \n",
    "    print(''.join(out))"
   ]
  },
  {
   "cell_type": "code",
   "execution_count": null,
   "metadata": {},
   "outputs": [],
   "source": []
  }
 ],
 "metadata": {
  "kernelspec": {
   "display_name": "datascience",
   "language": "python",
   "name": "python3"
  },
  "language_info": {
   "codemirror_mode": {
    "name": "ipython",
    "version": 3
   },
   "file_extension": ".py",
   "mimetype": "text/x-python",
   "name": "python",
   "nbconvert_exporter": "python",
   "pygments_lexer": "ipython3",
   "version": "3.11.2"
  },
  "orig_nbformat": 4
 },
 "nbformat": 4,
 "nbformat_minor": 2
}
